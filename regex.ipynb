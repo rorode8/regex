{
  "nbformat": 4,
  "nbformat_minor": 0,
  "metadata": {
    "colab": {
      "name": "regex.ipynb",
      "provenance": [],
      "collapsed_sections": [],
      "include_colab_link": true
    },
    "kernelspec": {
      "name": "python3",
      "display_name": "Python 3"
    },
    "language_info": {
      "name": "python"
    }
  },
  "cells": [
    {
      "cell_type": "markdown",
      "metadata": {
        "id": "view-in-github",
        "colab_type": "text"
      },
      "source": [
        "<a href=\"https://colab.research.google.com/github/rorode8/regex/blob/main/regex.ipynb\" target=\"_parent\"><img src=\"https://colab.research.google.com/assets/colab-badge.svg\" alt=\"Open In Colab\"/></a>"
      ]
    },
    {
      "cell_type": "code",
      "metadata": {
        "id": "OHyiW9duAfPl"
      },
      "source": [
        "import re\n",
        "\n",
        "import urllib3\n",
        "urllib3.disable_warnings(urllib3.exceptions.InsecureRequestWarning)\n",
        "target_url = \"https://raw.githubusercontent.com/rorode8/regex/main/source.txt\""
      ],
      "execution_count": null,
      "outputs": []
    },
    {
      "cell_type": "code",
      "metadata": {
        "colab": {
          "base_uri": "https://localhost:8080/"
        },
        "id": "7NVddEo2AkNk",
        "outputId": "1b24ec16-e326-49eb-9867-d59fa1a0ad18"
      },
      "source": [
        "text='''\n",
        "int x = 3;\n",
        "int b,c,d=1;\n",
        "int lalo = 100,k=1000;\n",
        "int arr [] = {   1 , 2 , 3 };\n",
        "int arr2 [] , c = 10, d ;\n",
        "int arr3 [],arr4[],arr [] ={1,2,3} ;\n",
        "'''\n",
        "http = urllib3.PoolManager()\n",
        "response = http.request('GET', target_url)\n",
        "data = response.data.decode('utf-8').split('\\r\\n')\n",
        "print(data)"
      ],
      "execution_count": null,
      "outputs": [
        {
          "output_type": "stream",
          "text": [
            "['aabbaa', 'bb', 'aa', 'a321321a', 'a23cca22222a22222222222222', 'aaabbbbbbaaabbaa']\n"
          ],
          "name": "stdout"
        }
      ]
    },
    {
      "cell_type": "markdown",
      "metadata": {
        "id": "DVkp57unC33s"
      },
      "source": [
        ""
      ]
    },
    {
      "cell_type": "markdown",
      "metadata": {
        "id": "EdtFCsFX1MEP"
      },
      "source": [
        "código para probar rápido, detecta todas las declaraciones de ints excepto los arreglos con `[]` se puede probar aqui https://regex101.com/r/DVGAfu/1 (version 2: https://regex101.com/r/wOoMH0/2 , https://regex101.com/r/wOoMH0/3) \n",
        "\n",
        "para doubles|floats: https://regex101.com/r/R2z3VB/1 (version 2: https://regex101.com/r/K1CLoe/1 , https://regex101.com/r/K1CLoe/2)\n",
        "\n",
        "\n",
        "para String: https://regex101.com/r/DeNIC1/1 (version 2: https://regex101.com/r/DeNIC1/2 , https://regex101.com/r/DeNIC1/3)\n",
        "\n",
        "chars: https://regex101.com/r/Lwq9eH/1 (version 2: https://regex101.com/r/v9rdXR/1)\n",
        "\n",
        "booleans: https://regex101.com/r/onqgVh/1 (version 2: https://regex101.com/r/zWB3QX/2)\n",
        "\n",
        "byte: https://regex101.com/r/a8ThzX/1 (version 2: https://regex101.com/r/7NpfxU/1)\n",
        "\n",
        "\n",
        "object: https://regex101.com/r/OnLnUP/1\n",
        "\n",
        "objetos con parametros https://regex101.com/r/nPeUMh/1 version 2: https://regex101.com/r/2fbNNE/1"
      ]
    },
    {
      "cell_type": "code",
      "metadata": {
        "colab": {
          "base_uri": "https://localhost:8080/"
        },
        "id": "lRMEw8iK1LZE",
        "outputId": "99293d98-9924-46ac-ed96-07d75a468213"
      },
      "source": [
        "text='''\n",
        "int x = 3;\n",
        "int b,c,d=1;\n",
        "int lalo = 100,k=1000;\n",
        "int arr [] = {   1 , 2 , 3 };\n",
        "int arr2 [] , c = 10, d ;\n",
        "int arr3 [],arr4[],arr [] ={1,2,3} ;\n",
        "int [] b,a, c={ 1,2,3 },d,ll={1,3,45} ;\n",
        "'''\n",
        "d = {}\n",
        "\n",
        "patternsplitter = re.compile(r'\\w+\\s*(\\[\\])?\\s*(=\\s*({[^}]+}|\\\"([^\"]|\\\\.)*\\\"|(\\w|\\')*))?\\s*(\\,|\\;)')\n",
        "intpattern = re.compile(r'(int|long|short)\\s+(\\[\\s*\\]\\s*\\w+\\s*(,\\s*\\w+|=(\\s*{\\s*\\d+(\\s*,\\s*\\d+\\s*)*}|\\s*(new\\s+\\1\\s*\\[\\s*\\d+\\s*\\])))?\\s*(,\\s*\\w+\\s*(\\[\\s*\\])?\\s*(=(\\s*{\\s*\\d+(\\s*,\\s*\\d+\\s*)*}|\\s*(new\\s+\\1\\s*\\[\\s*\\d+\\s*\\])))?)*|\\w+\\s*(,\\s*\\w+|=\\s*\\d+|\\[\\s*\\]\\s*(=(\\s*(new\\s+\\1\\s*\\[\\s*\\d+\\s*\\])|\\s*{\\s*\\d+(\\s*,\\s*\\d+\\s*)*}))?)?(,\\s*\\w+|,\\s*\\w+\\s*=\\s*\\d+|\\s*\\[\\s*\\]\\s*(=(\\s*(new\\s+\\1\\s*\\[\\s*\\d+\\s*\\])|(\\s*{\\s*\\d+(\\s*,\\s*\\d+\\s*)*})))?)*)\\s*;') #tipo int estandar, que puede hacer arreglos si se desea\n",
        "doublepattern = re.compile(r'(double|float)\\s+(\\[\\s*\\]\\s*\\w+\\s*(,\\s*\\w+|=(\\s*(new\\s+\\1\\s*\\[\\s*[1-9]\\d*\\s*\\])|\\s*{\\s*[+-]?([0-9]*[.]?)[0-9]+(\\s*,\\s*[+-]?([0-9]*[.]?)[0-9]+\\s*)*}))?\\s*(,\\s*\\w+\\s*(\\[\\s*\\])?\\s*(=(\\s*(new\\s+\\1\\s*\\[\\s*[1-9]\\d*\\s*\\])|\\s*{\\s*[+-]?([0-9]*[.]?)[0-9]+(\\s*,\\s*[+-]?([0-9]*[.]?)[0-9]+\\s*)*}))?)*|\\w+\\s*(,\\s*\\w+|=(\\s*(new\\s+\\1\\s*\\[\\s*[1-9]\\d*\\s*\\])|\\s*[+-]?([0-9]*[.]?)[0-9]+|\\[\\s*\\]\\s*(=\\s*{\\s*[+-]?([0-9]*[.]?)[0-9]+(\\s*,\\s*[+-]?([0-9]*[.]?)[0-9]+\\s*)*})?))?(,\\s*\\w+|,\\s*\\w+\\s*=\\s*[+-]?([0-9]*[.]?)[0-9]+|\\s*\\[\\s*\\]\\s*(=(\\s*(new\\s+\\1\\s*\\[\\s*[1-9]\\d*\\s*\\])|\\s*{\\s*[+-]?([0-9]*[.]?)[0-9]+(\\s*,\\s*[+-]?([0-9]*[.]?)[0-9]+\\s*)*}))?)*)\\s*;')\n",
        "stringpattern = re.compile(r'(String)\\s+(\\[\\s*\\]\\s*\\w+\\s*(,\\s*\\w+|=(\\s*(new\\s+\\1\\s*\\[\\s*[1-9]\\d*\\s*\\])|\\s*{\\s*\\\"[^\"]*\\\"\\s*(\\s*,\\s*\\\"[^\"]*\\\"\\s*)*}))?\\s*(,\\s*\\w+\\s*(\\[\\s*\\])?\\s*(=(\\s*(new\\s+\\1\\s*\\[\\s*[1-9]\\d*\\s*\\])|\\s*{\\s*\\\"[^\"]*\\\"\\s*(\\s*,\\s*\\\"[^\"]*\\\"\\s*)*}))?)*|\\w+\\s*(,\\s*\\w+|=(\\s*(new\\s+\\1\\s*\\[\\s*[1-9]\\d*\\s*\\])|\\s*\\\"[^\"]*\\\"\\s*|\\[\\s*\\]\\s*(=\\s*{\\s*\\\"[^\"]*\\\"\\s*(\\s*,\\s*\\\"[^\"]*\\\"\\s*)*})?))?(,\\s*\\w+|,\\s*\\w+\\s*=\\s*\\\"[^\"]*\\\"\\s*|\\s*\\[\\s*\\]\\s*(=(\\s*(new\\s+\\1\\s*\\[\\s*[1-9]\\d*\\s*\\])|\\s*{\\s*\\\"[^\"]*\\\"\\s*(\\s*,\\s*\\\"[^\"]*\\\"\\s*)*}))?)*)\\s*;')\n",
        "charpattern = re.compile(r\"(char)\\s+(\\[\\s*\\]\\s*\\w+\\s*(,\\s*\\w+|=(\\s*(new\\s+\\1\\s*\\[\\s*[1-9]\\d*\\s*\\])|\\s*{\\s*\\'[^']\\'\\s*(\\s*,\\s*\\'[^']\\'\\s*)*}))?\\s*(,\\s*\\w+\\s*(\\[\\s*\\])?\\s*(=(\\s*(new\\s+\\1\\s*\\[\\s*[1-9]\\d*\\s*\\])|\\s*{\\s*\\'[^']\\'\\s*(\\s*,\\s*\\'[^']\\'\\s*)*}))?)*|\\w+\\s*(,\\s*\\w+|=\\s*\\'[^']\\'\\s*|\\[\\s*\\]\\s*(=(\\s*(new\\s+\\1\\s*\\[\\s*[1-9]\\d*\\s*\\])|\\s*{\\s*\\'[^']\\'\\s*(\\s*,\\s*\\'[^']\\'\\s*)*}))?)?(,\\s*\\w+|,\\s*\\w+\\s*=\\s*\\'[^']\\'\\s*|\\s*\\[\\s*\\]\\s*(=(\\s*(new\\s+\\1\\s*\\[\\s*[1-9]\\d*\\s*\\])|\\s*{\\s*\\'[^']\\'\\s*(\\s*,\\s*\\'[^']\\'\\s*)*}))?)*)\\s*;\")\n",
        "booleanpattern = re.compile(r'(boolean)\\s+(\\[\\s*\\]\\s*\\w+\\s*(,\\s*\\w+|=(\\s*(new\\s+\\1\\s*\\[\\s*[1-9]\\d*\\s*\\])|\\s*{\\s*(true|false)\\s*(\\s*,\\s*(true|false)\\s*)*}))?\\s*(,\\s*\\w+\\s*(\\[\\s*\\])?\\s*(=(\\s*(new\\s+\\1\\s*\\[\\s*[1-9]\\d*\\s*\\])|\\s*{\\s*(true|false)\\s*(\\s*,\\s*(true|false)\\s*)*}))?)*|\\w+\\s*(,\\s*\\w+|=\\s*(true|false)\\s*|\\[\\s*\\]\\s*(=(\\s*(new\\s+\\1\\s*\\[\\s*[1-9]\\d*\\s*\\])|\\s*{\\s*(true|false)\\s*(\\s*,\\s*(true|false)\\s*)*}))?)?(,\\s*\\w+|,\\s*\\w+\\s*=\\s*(true|false)\\s*|\\s*\\[\\s*\\]\\s*(=(\\s*(new\\s+\\1\\s*\\[\\s*[1-9]\\d*\\s*\\])|\\s*{\\s*(true|false)\\s*(\\s*,\\s*(true|false)\\s*)*}))?)*)\\s*;')\n",
        "bytepattern = re.compile(r'(byte)\\s+(\\[\\s*\\]\\s*\\w+\\s*(,\\s*\\w+|=(\\s*(new\\s+\\1\\s*\\[\\s*[1-9]\\d*\\s*\\])|\\s*{\\s*(0b[01]{1,8}|0x[0-9a-fA-F]{1,2}|\\d{1,3})\\s*(\\s*,\\s*(0b[01]{1,8}|0x[0-9a-fA-F]{1,2}|\\d{1,3})\\s*)*}))?\\s*(,\\s*\\w+\\s*(\\[\\s*\\])?\\s*(=(\\s*(new\\s+\\1\\s*\\[\\s*[1-9]\\d*\\s*\\])|\\s*{\\s*(0b[01]{1,8}|0x[0-9a-fA-F]{1,2}|\\d{1,3})\\s*(\\s*,\\s*(0b[01]{1,8}|0x[0-9a-fA-F]{1,2}|\\d{1,3})\\s*)*}))?)*|\\w+\\s*(,\\s*\\w+|=\\s*(0b[01]{1,8}|0x[0-9a-fA-F]{1,2}|\\d{1,3})\\s*|\\[\\s*\\]\\s*(=(\\s*(new\\s+\\1\\s*\\[\\s*[1-9]\\d*\\s*\\])|\\s*{\\s*(0b[01]{1,8}|0x[0-9a-fA-F]{1,2}|\\d{1,3})\\s*(\\s*,\\s*(0b[01]{1,8}|0x[0-9a-fA-F]{1,2}|\\d{1,3})\\s*)*}))?)?(,\\s*\\w+|,\\s*\\w+\\s*=\\s*(0b[01]{1,8}|0x[0-9a-fA-F]{1,2}|\\d{1,3})\\s*|\\s*\\[\\s*\\]\\s*(=(\\s*(new\\s+\\1\\s*\\[\\s*[1-9]\\d*\\s*\\])|\\s*{\\s*(0b[01]{1,8}|0x[0-9a-fA-F]{1,2}|\\d{1,3})\\s*(\\s*,\\s*(0b[01]{1,8}|0x[0-9a-fA-F]{1,2}|\\d{1,3})\\s*)*}))?)*)\\s*;')\n",
        "objectpattern = re.compile(r'(Object)\\s+(\\[\\s*\\]\\s*\\w+\\s*(,\\s*\\w+|=(\\s*(new\\s+\\1\\s*\\[\\s*[1-9]\\d*\\s*\\])|\\s*{\\s*(new\\s+\\1\\s*\\(\\s*([^,]?\\w+[^,]?\\s*(,\\s*[^,]?\\w+[^,]?)*)*\\s*\\)|(?!new\\b)\\w+)\\s*(\\s*,\\s*(new\\s+\\1\\s*\\(\\s*([^,]?\\w+[^,]?\\s*(,\\s*[^,]?\\w+[^,]?)*)*\\s*\\)|(?!new\\b)\\w+)\\s*)*}))?\\s*(,\\s*\\w+\\s*(\\[\\s*\\])?\\s*(=(\\s*(new\\s+\\1\\s*\\[\\s*[1-9]\\d*\\s*\\])|\\s*{\\s*(new\\s+\\1\\s*\\(\\s*([^,]?\\w+[^,]?\\s*(,\\s*[^,]?\\w+[^,]?)*)*\\s*\\)|(?!new\\b)\\w+)\\s*(\\s*,\\s*(new\\s+\\1\\s*\\(\\s*([^,]?\\w+[^,]?\\s*(,\\s*[^,]?\\w+[^,]?)*)*\\s*\\)|(?!new\\b)\\w+)\\s*)*}))?)*|\\w+\\s*(,\\s*\\w+|=\\s*(new\\s+\\1\\s*\\(\\s*([^,]?\\w+[^,]?\\s*(,\\s*[^,]?\\w+[^,]?)*)*\\s*\\)|(?!new\\b)\\w+)\\s*|\\[\\s*\\]\\s*(=(\\s*(new\\s+\\1\\s*\\[\\s*[1-9]\\d*\\s*\\])|\\s*{\\s*(new\\s+\\1\\s*\\(\\s*([^,]?\\w+[^,]?\\s*(,\\s*[^,]?\\w+[^,]?)*)*\\s*\\)|(?!new\\b)\\w+)\\s*(\\s*,\\s*(new\\s+\\1\\s*\\(\\s*([^,]?\\w+[^,]?\\s*(,\\s*[^,]?\\w+[^,]?)*)*\\s*\\)|(?!new\\b)\\w+)\\s*)*}))?)?(,\\s*\\w+|,\\s*\\w+\\s*=\\s*(new\\s+\\1\\s*\\(\\s*([^,]?\\w+[^,]?\\s*(,\\s*[^,]?\\w+[^,]?)*)*\\s*\\)|(?!new\\b)\\w+)\\s*|\\s*\\[\\s*\\]\\s*(=(\\s*(new\\s+\\1\\s*\\[\\s*[1-9]\\d*\\s*\\])|\\s*{\\s*(new\\s+\\1\\s*\\(\\s*([^,]?\\w+[^,]?\\s*(,\\s*[^,]?\\w+[^,]?)*)*\\s*\\)|(?!new\\b)\\w+)\\s*(\\s*,\\s*(new\\s+\\1\\s*\\(\\s*([^,]?\\w+[^,]?\\s*(,\\s*[^,]?\\w+[^,]?)*)*\\s*\\)|(?!new\\b)\\w+)\\s*)*}))?)*)\\s*;')\n",
        "\n",
        "\n",
        "\n",
        "for match in intpattern.finditer(text):\n",
        "    print(match)\n",
        "\n",
        "    #int/float/string\n",
        "    print(match.group(1))\n",
        "\n",
        "    #Crea la llave si aún no está en el diccionario\n",
        "    #[escalares Declaradas no Inicializadas, escalares Inicializadas, arreglos Dec y no Inicializadas, arreglos Inicializados]\n",
        "    if (d.get(match.group(1)) is None):\n",
        "      d[match.group(1)]=[0,0,0,0]\n",
        "    \n",
        "    #group(0) tiene la cadena completa\n",
        "    #El split(',') entrega cada una de las declaraciones \n",
        "    #si la expresion es int a, b, c, d[]\n",
        "    #regresa:\n",
        "    #int a\n",
        "    #b\n",
        "    #c\n",
        "    #d[]\n",
        "    cadena = match.group(0)[len(match.group(1)):]\n",
        "    flag = False\n",
        "    for c in cadena:\n",
        "      if(c == '['):\n",
        "        flag=True\n",
        "      elif( not c== ' '):\n",
        "        break\n",
        "\n",
        "\n",
        "    for wordmatch in patternsplitter.finditer(cadena):\n",
        "      \n",
        "      word = wordmatch.group(0)\n",
        "      print(word)\n",
        "      #Si encuentras '[' Es un arreglo\n",
        "      if(\"[\" in word or flag):\n",
        "        #Si ademas hay una asignación, está inicializado\n",
        "        if(\"=\" in word):\n",
        "          d[match.group(1)][3]+=1\n",
        "        else:\n",
        "          #Si no, solo está declarado\n",
        "          d[match.group(1)][2]+=1\n",
        "      else:\n",
        "        #Si no está, es un escalar\n",
        "        if(\"=\" in word):\n",
        "          #Si aparece = es una asignación\n",
        "          d[match.group(1)][1]+=1\n",
        "        else:\n",
        "          #Si no, está declarado pero no inicializado\n",
        "          d[match.group(1)][0]+=1\n",
        "      print(d)\n",
        "\n",
        "\n",
        "print(d)\n",
        "## (:O)"
      ],
      "execution_count": null,
      "outputs": [
        {
          "output_type": "stream",
          "text": [
            "<re.Match object; span=(1, 11), match='int x = 3;'>\n",
            "int\n",
            "x = 3;\n",
            "{'int': [0, 1, 0, 0]}\n",
            "<re.Match object; span=(12, 24), match='int b,c,d=1;'>\n",
            "int\n",
            "b,\n",
            "{'int': [1, 1, 0, 0]}\n",
            "c,\n",
            "{'int': [2, 1, 0, 0]}\n",
            "d=1;\n",
            "{'int': [2, 2, 0, 0]}\n",
            "<re.Match object; span=(25, 47), match='int lalo = 100,k=1000;'>\n",
            "int\n",
            "lalo = 100,\n",
            "{'int': [2, 3, 0, 0]}\n",
            "k=1000;\n",
            "{'int': [2, 4, 0, 0]}\n",
            "<re.Match object; span=(48, 77), match='int arr [] = {   1 , 2 , 3 };'>\n",
            "int\n",
            "arr [] = {   1 , 2 , 3 };\n",
            "{'int': [2, 4, 0, 1]}\n",
            "<re.Match object; span=(78, 103), match='int arr2 [] , c = 10, d ;'>\n",
            "int\n",
            "arr2 [] ,\n",
            "{'int': [2, 4, 1, 1]}\n",
            "c = 10,\n",
            "{'int': [2, 5, 1, 1]}\n",
            "d ;\n",
            "{'int': [3, 5, 1, 1]}\n",
            "<re.Match object; span=(104, 140), match='int arr3 [],arr4[],arr [] ={1,2,3} ;'>\n",
            "int\n",
            "arr3 [],\n",
            "{'int': [3, 5, 2, 1]}\n",
            "arr4[],\n",
            "{'int': [3, 5, 3, 1]}\n",
            "arr [] ={1,2,3} ;\n",
            "{'int': [3, 5, 3, 2]}\n",
            "<re.Match object; span=(141, 180), match='int [] b,a, c={ 1,2,3 },d,ll={1,3,45} ;'>\n",
            "int\n",
            "b,\n",
            "{'int': [3, 5, 4, 2]}\n",
            "a,\n",
            "{'int': [3, 5, 5, 2]}\n",
            "c={ 1,2,3 },\n",
            "{'int': [3, 5, 5, 3]}\n",
            "d,\n",
            "{'int': [3, 5, 6, 3]}\n",
            "ll={1,3,45} ;\n",
            "{'int': [3, 5, 6, 4]}\n",
            "{'int': [3, 5, 6, 4]}\n"
          ],
          "name": "stdout"
        }
      ]
    },
    {
      "cell_type": "code",
      "metadata": {
        "id": "F9G-09MCOJi2",
        "colab": {
          "base_uri": "https://localhost:8080/"
        },
        "outputId": "6ffbd5c4-0d6f-4f18-8819-0a15c85dea05"
      },
      "source": [
        "from tabulate import tabulate\n",
        "def tabula(dic):\n",
        "    \n",
        "    #Recibe un diccionario con el formato dado arriba\n",
        "    #Imprime una tabla\n",
        "    \n",
        "    dd = {}\n",
        "    num_keys = len(dic)\n",
        "    dd['dataType']= ['']*num_keys\n",
        "    dd['de_escalars']=[0]*num_keys\n",
        "    dd['in_escalars']=[0]*num_keys\n",
        "    dd['de_arrays']=[0]*num_keys\n",
        "    dd['in_arrays']=[0]*num_keys\n",
        "    dd['total']=[0]*num_keys\n",
        "    cont = 0\n",
        "    \n",
        "    for typeData in dic:\n",
        "        total = sum(dic[typeData])\n",
        "        dd['dataType'][cont] = typeData\n",
        "        dd['de_escalars'][cont]=dic[typeData][0]\n",
        "        dd['in_escalars'][cont]=dic[typeData][1]\n",
        "        dd['de_arrays'][cont]=dic[typeData][2]\n",
        "        dd['in_arrays'][cont]=dic[typeData][3]\n",
        "        dd['total'][cont] = total\n",
        "        cont+=1 \n",
        "     \n",
        "    totalDec =sum(dd['total'])\n",
        "    totalTipos = len(dd['dataType'])\n",
        "    totalInic = sum(dd['in_escalars'])+sum(dd['in_arrays'])\n",
        "    totalArr = sum(dd['de_arrays'])+sum(dd['in_arrays'])\n",
        "    print('')\n",
        "    print('Estadísticas')\n",
        "    print('----------------------------------------')\n",
        "    print('ED: Variables escalares declaradas pero no inicializadas')\n",
        "    print('EI: Variables escalares declaradas e Inicializadas')\n",
        "    print('AD: Variables tipo arreglo declaradas pero no inicializadas')\n",
        "    print('EI: Variables tipo arreglo declaradas e Inicializadas')\n",
        "    print('----------------------------------------')\n",
        "    print('')\n",
        "    print(tabulate(dd,headers=\n",
        "                   ['Tipo','ED','EI',\n",
        "                    'AD','AI','Total']))\n",
        "    \n",
        "    \n",
        "    print('----------------------------------------')\n",
        "    print('Total de variables declaradas: ',totalDec)\n",
        "    print('Total de tipos de datos declarados: ',totalTipos)\n",
        "    print('Total de variables declaradas e Inicializadas: ',totalInic)\n",
        "    print('Total de variables de tipo arreglo: ',totalArr)\n",
        "tabula(d)"
      ],
      "execution_count": null,
      "outputs": [
        {
          "output_type": "stream",
          "text": [
            "\n",
            "Estadísticas\n",
            "----------------------------------------\n",
            "ED: Variables escalares declaradas pero no inicializadas\n",
            "EI: Variables escalares declaradas e Inicializadas\n",
            "AD: Variables tipo arreglo declaradas pero no inicializadas\n",
            "EI: Variables tipo arreglo declaradas e Inicializadas\n",
            "----------------------------------------\n",
            "\n",
            "Tipo      ED    EI    AD    AI    Total\n",
            "------  ----  ----  ----  ----  -------\n",
            "int        3     5     6     4       18\n",
            "----------------------------------------\n",
            "Total de variables declaradas:  18\n",
            "Total de tipos de datos declarados:  1\n",
            "Total de variables declaradas e Inicializadas:  9\n",
            "Total de variables de tipo arreglo:  10\n"
          ],
          "name": "stdout"
        }
      ]
    }
  ]
}
{
  "nbformat": 4,
  "nbformat_minor": 0,
  "metadata": {
    "colab": {
      "name": "regex.ipynb",
      "provenance": [],
      "collapsed_sections": [],
      "include_colab_link": true
    },
    "kernelspec": {
      "name": "python3",
      "display_name": "Python 3"
    },
    "language_info": {
      "name": "python"
    }
  },
  "cells": [
    {
      "cell_type": "markdown",
      "metadata": {
        "id": "view-in-github",
        "colab_type": "text"
      },
      "source": [
        "<a href=\"https://colab.research.google.com/github/rorode8/regex/blob/main/regex.ipynb\" target=\"_parent\"><img src=\"https://colab.research.google.com/assets/colab-badge.svg\" alt=\"Open In Colab\"/></a>"
      ]
    },
    {
      "cell_type": "code",
      "metadata": {
        "id": "OHyiW9duAfPl"
      },
      "source": [
        "import re\n",
        "\n",
        "import urllib3\n",
        "urllib3.disable_warnings(urllib3.exceptions.InsecureRequestWarning)\n",
        "target_url = \"https://raw.githubusercontent.com/rorode8/regex/main/source.txt\""
      ],
      "execution_count": null,
      "outputs": []
    },
    {
      "cell_type": "code",
      "metadata": {
        "colab": {
          "base_uri": "https://localhost:8080/"
        },
        "id": "7NVddEo2AkNk",
        "outputId": "1b24ec16-e326-49eb-9867-d59fa1a0ad18"
      },
      "source": [
        "text='''\n",
        "int x = 3;\n",
        "int b,c,d=1;\n",
        "int lalo = 100,k=1000;\n",
        "int arr [] = {   1 , 2 , 3 };\n",
        "int arr2 [] , c = 10, d ;\n",
        "int arr3 [],arr4[],arr [] ={1,2,3} ;\n",
        "'''\n",
        "http = urllib3.PoolManager()\n",
        "response = http.request('GET', target_url)\n",
        "data = response.data.decode('utf-8').split('\\r\\n')\n",
        "print(data)"
      ],
      "execution_count": null,
      "outputs": [
        {
          "output_type": "stream",
          "text": [
            "['aabbaa', 'bb', 'aa', 'a321321a', 'a23cca22222a22222222222222', 'aaabbbbbbaaabbaa']\n"
          ],
          "name": "stdout"
        }
      ]
    },
    {
      "cell_type": "markdown",
      "metadata": {
        "id": "DVkp57unC33s"
      },
      "source": [
        ""
      ]
    },
    {
      "cell_type": "markdown",
      "metadata": {
        "id": "EdtFCsFX1MEP"
      },
      "source": [
        "código para probar rápido, detecta todas las declaraciones de ints excepto los arreglos con `[]` se puede probar aqui https://regex101.com/r/DVGAfu/1 (version 2: https://regex101.com/r/wOoMH0/2 , https://regex101.com/r/wOoMH0/3) \n",
        "\n",
        "para doubles|floats: https://regex101.com/r/R2z3VB/1 (version 2: https://regex101.com/r/K1CLoe/1 , https://regex101.com/r/K1CLoe/2)\n",
        "\n",
        "\n",
        "para String: https://regex101.com/r/DeNIC1/1 (version 2: https://regex101.com/r/DeNIC1/2 , https://regex101.com/r/DeNIC1/3)\n",
        "\n",
        "chars: https://regex101.com/r/Lwq9eH/1 (version 2: https://regex101.com/r/v9rdXR/1)\n",
        "\n",
        "booleans: https://regex101.com/r/onqgVh/1 (version 2: https://regex101.com/r/zWB3QX/2)\n",
        "\n",
        "byte: https://regex101.com/r/a8ThzX/1 (version 2: https://regex101.com/r/7NpfxU/1)\n",
        "\n",
        "\n",
        "object: https://regex101.com/r/OnLnUP/1\n",
        "\n",
        "objetos con parametros https://regex101.com/r/nPeUMh/1 version 2: https://regex101.com/r/2fbNNE/1"
      ]
    },
    {
      "cell_type": "code",
      "metadata": {
        "colab": {
          "base_uri": "https://localhost:8080/"
        },
        "id": "lRMEw8iK1LZE",
        "outputId": "5d23f30a-bd6e-407a-d0f1-e7bcb35b384a"
      },
      "source": [
        "text='''\n",
        "int x = 3;\n",
        "int b,c,d=1;\n",
        "int lalo = 100,k=1000;\n",
        "int arr [] = {   1 , 2 , 3 };\n",
        "int arr2 [] , c = 10, d ;\n",
        "int arr3 [],arr4[],arr [] ={1,2,3} ;\n",
        "int [] b,a, c={ 1,2,3 },d,ll={1,3,45} ;\n",
        "'''\n",
        "d = {}\n",
        "\n",
        "\n",
        "pattern = re.compile(r'(int)\\s+(\\[\\s*\\]\\s*\\w+\\s*(,\\s*\\w+|=\\s*{\\s*\\d+(\\s*,\\s*\\d+\\s*)*})?\\s*(,\\s*\\w+\\s*(\\[\\s*\\])?\\s*(=\\s*{\\s*\\d+(\\s*,\\s*\\d+\\s*)*})?)*|'+ #exclusivamente arreglos, detecta cosas del tipo: int [] arrc1 = {1,2},arr21,bbb1 = {20};\n",
        "  '\\w+\\s*(,\\s*\\w+|=\\s*\\d+|\\[\\s*\\]\\s*(=\\s*{\\s*\\d+(\\s*,\\s*\\d+\\s*)*})?)(,\\s*\\w+|,\\s*\\w+\\s*=\\s*\\d+|\\s*\\[\\s*\\]\\s*(=\\s*{\\s*\\d+(\\s*,\\s*\\d+\\s*)*})?)*)\\s*;') #tipo int estandar, que puede hacer arreglos si se desea\n",
        "for match in pattern.finditer(text):\n",
        "    print(match)\n",
        "    print(match.group(1))\n",
        "    if not( (match.group(1) in d):\n",
        "      d[match.group(1)]=[0,0,0,0]\n",
        "    \n",
        "    for word in match.group(0).split(','):\n",
        "      if(\"[\" in word):\n",
        "        if(\"=\" in word):\n",
        "          d[match.group(1)][3]+=1\n",
        "        else:\n",
        "          d[match.group(1)][2]+=1\n",
        "      else:\n",
        "        if(\"=\" in word):\n",
        "          d[match.group(1)][1]+=1\n",
        "        else:\n",
        "          d[match.group(1)][0]+=1\n",
        "\n"
      ],
      "execution_count": null,
      "outputs": [
        {
          "output_type": "stream",
          "text": [
            "<re.Match object; span=(1, 11), match='int x = 3;'>\n",
            "int\n",
            "<re.Match object; span=(12, 24), match='int b,c,d=1;'>\n",
            "int\n",
            "<re.Match object; span=(25, 47), match='int lalo = 100,k=1000;'>\n",
            "int\n",
            "<re.Match object; span=(48, 77), match='int arr [] = {   1 , 2 , 3 };'>\n",
            "int\n",
            "<re.Match object; span=(78, 103), match='int arr2 [] , c = 10, d ;'>\n",
            "int\n",
            "<re.Match object; span=(104, 140), match='int arr3 [],arr4[],arr [] ={1,2,3} ;'>\n",
            "int\n",
            "<re.Match object; span=(141, 180), match='int [] b,a, c={ 1,2,3 },d,ll={1,3,45} ;'>\n",
            "int\n"
          ],
          "name": "stdout"
        }
      ]
    },
    {
      "cell_type": "code",
      "metadata": {
        "id": "F9G-09MCOJi2"
      },
      "source": [
        ""
      ],
      "execution_count": null,
      "outputs": []
    }
  ]
}
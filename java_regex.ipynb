{
  "nbformat": 4,
  "nbformat_minor": 5,
  "metadata": {
    "kernelspec": {
      "display_name": "Python 3",
      "language": "python",
      "name": "python3"
    },
    "language_info": {
      "codemirror_mode": {
        "name": "ipython",
        "version": 3
      },
      "file_extension": ".py",
      "mimetype": "text/x-python",
      "name": "python",
      "nbconvert_exporter": "python",
      "pygments_lexer": "ipython3",
      "version": "3.8.5"
    },
    "colab": {
      "name": "java_regex.ipynb",
      "provenance": []
    }
  },
  "cells": [
    {
      "cell_type": "code",
      "metadata": {
        "id": "loose-newspaper"
      },
      "source": [
        "import re"
      ],
      "id": "loose-newspaper",
      "execution_count": 2,
      "outputs": []
    },
    {
      "cell_type": "code",
      "metadata": {
        "id": "fancy-accordance"
      },
      "source": [
        "text='''\n",
        "aabbaa\n",
        "bb\n",
        "aa\n",
        "a321321a\n",
        "a23cca22222a22222222222222\n",
        "aaabbbbbbaaabbaa\n",
        "'''"
      ],
      "id": "fancy-accordance",
      "execution_count": 3,
      "outputs": []
    },
    {
      "cell_type": "code",
      "metadata": {
        "id": "N7MQZOKb-v6E",
        "outputId": "98ae39ff-adeb-4a3e-a542-dc1b2a1174ad",
        "colab": {
          "base_uri": "https://localhost:8080/"
        }
      },
      "source": [
        "for line in text.split('\\n'):\n",
        "    print(re.search(r'[^a]*(a[^a]*a[^a]*)*',line))"
      ],
      "id": "N7MQZOKb-v6E",
      "execution_count": 4,
      "outputs": [
        {
          "output_type": "stream",
          "text": [
            "<re.Match object; span=(0, 0), match=''>\n",
            "<re.Match object; span=(0, 6), match='aabbaa'>\n",
            "<re.Match object; span=(0, 2), match='bb'>\n",
            "<re.Match object; span=(0, 2), match='aa'>\n",
            "<re.Match object; span=(0, 8), match='a321321a'>\n",
            "<re.Match object; span=(0, 11), match='a23cca22222'>\n",
            "<re.Match object; span=(0, 16), match='aaabbbbbbaaabbaa'>\n",
            "<re.Match object; span=(0, 0), match=''>\n"
          ],
          "name": "stdout"
        }
      ]
    }
  ]
}
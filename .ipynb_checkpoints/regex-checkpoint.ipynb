{
 "cells": [
  {
   "cell_type": "markdown",
   "metadata": {
    "colab_type": "text",
    "id": "view-in-github"
   },
   "source": [
    "<a href=\"https://colab.research.google.com/github/rorode8/regex/blob/main/regex.ipynb\" target=\"_parent\"><img src=\"https://colab.research.google.com/assets/colab-badge.svg\" alt=\"Open In Colab\"/></a>"
   ]
  },
  {
   "cell_type": "code",
   "execution_count": 1,
   "metadata": {
    "id": "OHyiW9duAfPl"
   },
   "outputs": [],
   "source": [
    "import re\n",
    "\n",
    "import urllib3\n",
    "urllib3.disable_warnings(urllib3.exceptions.InsecureRequestWarning)\n",
    "target_url = \"https://raw.githubusercontent.com/rorode8/regex/main/source.txt\""
   ]
  },
  {
   "cell_type": "code",
   "execution_count": null,
   "metadata": {},
   "outputs": [],
   "source": []
  },
  {
   "cell_type": "code",
   "execution_count": null,
   "metadata": {
    "colab": {
     "base_uri": "https://localhost:8080/"
    },
    "id": "7NVddEo2AkNk",
    "outputId": "1b24ec16-e326-49eb-9867-d59fa1a0ad18"
   },
   "outputs": [],
   "source": [
    "text='''\n",
    "int x = 3;\n",
    "int b,c,d=1;\n",
    "int lalo = 100,k=1000;\n",
    "int arr [] = {   1 , 2 , 3 };\n",
    "int arr2 [] , c = 10, d ;\n",
    "int arr3 [],arr4[],arr [] ={1,2,3} ;\n",
    "'''\n",
    "http = urllib3.PoolManager()\n",
    "response = http.request('GET', target_url)\n",
    "data = response.data.decode('utf-8').split('\\r\\n')\n",
    "print(data)"
   ]
  },
  {
   "cell_type": "markdown",
   "metadata": {
    "id": "DVkp57unC33s"
   },
   "source": []
  },
  {
   "cell_type": "markdown",
   "metadata": {
    "id": "EdtFCsFX1MEP"
   },
   "source": [
    "código para probar rápido, detecta todas las declaraciones de ints excepto los arreglos con `[]` se puede probar aqui https://regex101.com/r/DVGAfu/1 (version 2: https://regex101.com/r/wOoMH0/2 , https://regex101.com/r/wOoMH0/3) \n",
    "\n",
    "para doubles|floats: https://regex101.com/r/R2z3VB/1 (version 2: https://regex101.com/r/K1CLoe/1 , https://regex101.com/r/K1CLoe/2)\n",
    "\n",
    "\n",
    "para String: https://regex101.com/r/DeNIC1/1 (version 2: https://regex101.com/r/DeNIC1/2 , https://regex101.com/r/DeNIC1/3)\n",
    "\n",
    "chars: https://regex101.com/r/Lwq9eH/1 (version 2: https://regex101.com/r/v9rdXR/1)\n",
    "\n",
    "booleans: https://regex101.com/r/onqgVh/1 (version 2: https://regex101.com/r/zWB3QX/2)\n",
    "\n",
    "byte: https://regex101.com/r/a8ThzX/1 (version 2: https://regex101.com/r/7NpfxU/1)\n",
    "\n",
    "\n",
    "object: https://regex101.com/r/OnLnUP/1\n",
    "\n",
    "objetos con parametros https://regex101.com/r/nPeUMh/1 version 2: https://regex101.com/r/2fbNNE/1"
   ]
  },
  {
   "cell_type": "code",
   "execution_count": null,
   "metadata": {
    "colab": {
     "base_uri": "https://localhost:8080/"
    },
    "id": "lRMEw8iK1LZE",
    "outputId": "ef5198cd-a97a-44ce-d4e2-ee40022d00aa"
   },
   "outputs": [],
   "source": [
    "text='''\n",
    "String\n",
    "int x = 3;\n",
    "int b,c,d=1;\n",
    "int lalo = 100,k=1000;\n",
    "int arr [] = {   1 , 2 , 3 };\n",
    "int arr2 [] , c = 10, d ;\n",
    "String fakeint = \"int x=10;\";\n",
    "//this is a comment1\n",
    "int arr3 [],arr4[],arr [] ={1,2,3} ;\n",
    "int [] b,a, c={ 1,2,3 },d,ll={1,3,45} ;\n",
    "\n",
    "String b =\"whatchamp \";\n",
    "String s;\n",
    "\n",
    "\n",
    "'''\n",
    "text = file = open(\"Main.java\").read()\n",
    "\n",
    "\n",
    "print(\"xxxxxxxxxxx\")\n",
    "purge = re.compile(r'(\\/\\/.*$|\\/\\*(.|\\s)*\\*\\/)',re.MULTILINE) #elimina comentarios\n",
    "text = purge.sub('',text)\n",
    "print(text)\n",
    "\n",
    "\n",
    "d = {}\n",
    "variables = {}\n",
    "\n",
    "Pstring = r'\\s+(\\[\\s*\\]\\s*\\w+\\s*(,\\s*\\w+|=(\\s*(new\\s+\\1\\s*\\[\\s*[1-9]\\d*\\s*\\])|\\s*{\\s*\\\"[^\"]*\\\"\\s*(\\s*,\\s*\\\"[^\"]*\\\"\\s*)*}))?\\s*(,\\s*\\w+\\s*(\\[\\s*\\])?\\s*(=(\\s*(new\\s+\\1\\s*\\[\\s*[1-9]\\d*\\s*\\])|\\s*{\\s*\\\"[^\"]*\\\"\\s*(\\s*,\\s*\\\"[^\"]*\\\"\\s*)*}))?)*|\\w+\\s*(,\\s*\\w+|=(\\s*(new\\s+\\1\\s*\\[\\s*[1-9]\\d*\\s*\\])|\\s*\\\"[^\"]*\\\"\\s*|\\[\\s*\\]\\s*(=\\s*{\\s*\\\"[^\"]*\\\"\\s*(\\s*,\\s*\\\"[^\"]*\\\"\\s*)*})?))?(,\\s*\\w+|,\\s*\\w+\\s*=\\s*\\\"[^\"]*\\\"\\s*|\\s*\\[\\s*\\]\\s*(=(\\s*(new\\s+\\1\\s*\\[\\s*[1-9]\\d*\\s*\\])|\\s*{\\s*\\\"[^\"]*\\\"\\s*(\\s*,\\s*\\\"[^\"]*\\\"\\s*)*}))?)*)\\s*;'\n",
    "Pchar = r\"\\s+(\\[\\s*\\]\\s*\\w+\\s*(,\\s*\\w+|=(\\s*(new\\s+\\1\\s*\\[\\s*[1-9]\\d*\\s*\\])|\\s*{\\s*\\'[^']\\'\\s*(\\s*,\\s*\\'[^']\\'\\s*)*}))?\\s*(,\\s*\\w+\\s*(\\[\\s*\\])?\\s*(=(\\s*(new\\s+\\1\\s*\\[\\s*[1-9]\\d*\\s*\\])|\\s*{\\s*\\'[^']\\'\\s*(\\s*,\\s*\\'[^']\\'\\s*)*}))?)*|\\w+\\s*(,\\s*\\w+|=\\s*\\'[^']\\'\\s*|\\[\\s*\\]\\s*(=(\\s*(new\\s+\\1\\s*\\[\\s*[1-9]\\d*\\s*\\])|\\s*{\\s*\\'[^']\\'\\s*(\\s*,\\s*\\'[^']\\'\\s*)*}))?)?(,\\s*\\w+|,\\s*\\w+\\s*=\\s*\\'[^']\\'\\s*|\\s*\\[\\s*\\]\\s*(=(\\s*(new\\s+\\1\\s*\\[\\s*[1-9]\\d*\\s*\\])|\\s*{\\s*\\'[^']\\'\\s*(\\s*,\\s*\\'[^']\\'\\s*)*}))?)*)\\s;*\"\n",
    "Pint = r'\\s+(\\[\\s*\\]\\s*\\w+\\s*(,\\s*\\w+|=(\\s*{\\s*\\d+(\\s*,\\s*\\d+\\s*)*}|\\s*(new\\s+\\1\\s*\\[\\s*\\d+\\s*\\])))?\\s*(,\\s*\\w+\\s*(\\[\\s*\\])?\\s*(=(\\s*{\\s*\\d+(\\s*,\\s*\\d+\\s*)*}|\\s*(new\\s+\\1\\s*\\[\\s*\\d+\\s*\\])))?)*|\\w+\\s*(,\\s*\\w+|=\\s*\\d+|\\[\\s*\\]\\s*(=(\\s*(new\\s+\\1\\s*\\[\\s*\\d+\\s*\\])|\\s*{\\s*\\d+(\\s*,\\s*\\d+\\s*)*}))?)?(,\\s*\\w+|,\\s*\\w+\\s*=\\s*\\d+|\\s*\\[\\s*\\]\\s*(=(\\s*(new\\s+\\1\\s*\\[\\s*\\d+\\s*\\])|(\\s*{\\s*\\d+(\\s*,\\s*\\d+\\s*)*})))?)*)\\s*;'\n",
    "Pdouble = r'\\s+(\\[\\s*\\]\\s*\\w+\\s*(,\\s*\\w+|=(\\s*(new\\s+\\1\\s*\\[\\s*[1-9]\\d*\\s*\\])|\\s*{\\s*[+-]?([0-9]*[.]?)[0-9]+(\\s*,\\s*[+-]?([0-9]*[.]?)[0-9]+\\s*)*}))?\\s*(,\\s*\\w+\\s*(\\[\\s*\\])?\\s*(=(\\s*(new\\s+\\1\\s*\\[\\s*[1-9]\\d*\\s*\\])|\\s*{\\s*[+-]?([0-9]*[.]?)[0-9]+(\\s*,\\s*[+-]?([0-9]*[.]?)[0-9]+\\s*)*}))?)*|\\w+\\s*(,\\s*\\w+|=(\\s*(new\\s+\\1\\s*\\[\\s*[1-9]\\d*\\s*\\])|\\s*[+-]?([0-9]*[.]?)[0-9]+|\\[\\s*\\]\\s*(=\\s*{\\s*[+-]?([0-9]*[.]?)[0-9]+(\\s*,\\s*[+-]?([0-9]*[.]?)[0-9]+\\s*)*})?))?(,\\s*\\w+|,\\s*\\w+\\s*=\\s*[+-]?([0-9]*[.]?)[0-9]+|\\s*\\[\\s*\\]\\s*(=(\\s*(new\\s+\\1\\s*\\[\\s*[1-9]\\d*\\s*\\])|\\s*{\\s*[+-]?([0-9]*[.]?)[0-9]+(\\s*,\\s*[+-]?([0-9]*[.]?)[0-9]+\\s*)*}))?)*)\\s*;'\n",
    "Pboolean = r'\\s+(\\[\\s*\\]\\s*\\w+\\s*(,\\s*\\w+|=(\\s*(new\\s+\\1\\s*\\[\\s*[1-9]\\d*\\s*\\])|\\s*{\\s*(true|false)\\s*(\\s*,\\s*(true|false)\\s*)*}))?\\s*(,\\s*\\w+\\s*(\\[\\s*\\])?\\s*(=(\\s*(new\\s+\\1\\s*\\[\\s*[1-9]\\d*\\s*\\])|\\s*{\\s*(true|false)\\s*(\\s*,\\s*(true|false)\\s*)*}))?)*|\\w+\\s*(,\\s*\\w+|=\\s*(true|false)\\s*|\\[\\s*\\]\\s*(=(\\s*(new\\s+\\1\\s*\\[\\s*[1-9]\\d*\\s*\\])|\\s*{\\s*(true|false)\\s*(\\s*,\\s*(true|false)\\s*)*}))?)?(,\\s*\\w+|,\\s*\\w+\\s*=\\s*(true|false)\\s*|\\s*\\[\\s*\\]\\s*(=(\\s*(new\\s+\\1\\s*\\[\\s*[1-9]\\d*\\s*\\])|\\s*{\\s*(true|false)\\s*(\\s*,\\s*(true|false)\\s*)*}))?)*)\\s*;'\n",
    "pbyte = r'\\s+(\\[\\s*\\]\\s*\\w+\\s*(,\\s*\\w+|=(\\s*(new\\s+\\1\\s*\\[\\s*[1-9]\\d*\\s*\\])|\\s*{\\s*(0b[01]{1,8}|0x[0-9a-fA-F]{1,2}|\\d{1,3})\\s*(\\s*,\\s*(0b[01]{1,8}|0x[0-9a-fA-F]{1,2}|\\d{1,3})\\s*)*}))?\\s*(,\\s*\\w+\\s*(\\[\\s*\\])?\\s*(=(\\s*(new\\s+\\1\\s*\\[\\s*[1-9]\\d*\\s*\\])|\\s*{\\s*(0b[01]{1,8}|0x[0-9a-fA-F]{1,2}|\\d{1,3})\\s*(\\s*,\\s*(0b[01]{1,8}|0x[0-9a-fA-F]{1,2}|\\d{1,3})\\s*)*}))?)*|\\w+\\s*(,\\s*\\w+|=\\s*(0b[01]{1,8}|0x[0-9a-fA-F]{1,2}|\\d{1,3})\\s*|\\[\\s*\\]\\s*(=(\\s*(new\\s+\\1\\s*\\[\\s*[1-9]\\d*\\s*\\])|\\s*{\\s*(0b[01]{1,8}|0x[0-9a-fA-F]{1,2}|\\d{1,3})\\s*(\\s*,\\s*(0b[01]{1,8}|0x[0-9a-fA-F]{1,2}|\\d{1,3})\\s*)*}))?)?(,\\s*\\w+|,\\s*\\w+\\s*=\\s*(0b[01]{1,8}|0x[0-9a-fA-F]{1,2}|\\d{1,3})\\s*|\\s*\\[\\s*\\]\\s*(=(\\s*(new\\s+\\1\\s*\\[\\s*[1-9]\\d*\\s*\\])|\\s*{\\s*(0b[01]{1,8}|0x[0-9a-fA-F]{1,2}|\\d{1,3})\\s*(\\s*,\\s*(0b[01]{1,8}|0x[0-9a-fA-F]{1,2}|\\d{1,3})\\s*)*}))?)*)\\s*;'\n",
    "pObject = r'\\s+(\\[\\s*\\]\\s*\\w+\\s*(,\\s*\\w+|=(\\s*(new\\s+\\1\\s*\\[\\s*[1-9]\\d*\\s*\\])|\\s*{\\s*(new\\s+\\1\\s*\\(\\s*([^,]?\\w+[^,]?\\s*(,\\s*[^,]?\\w+[^,]?)*)*\\s*\\)|(?!new\\b)\\w+)\\s*(\\s*,\\s*(new\\s+\\1\\s*\\(\\s*([^,]?\\w+[^,]?\\s*(,\\s*[^,]?\\w+[^,]?)*)*\\s*\\)|(?!new\\b)\\w+)\\s*)*}))?\\s*(,\\s*\\w+\\s*(\\[\\s*\\])?\\s*(=(\\s*(new\\s+\\1\\s*\\[\\s*[1-9]\\d*\\s*\\])|\\s*{\\s*(new\\s+\\1\\s*\\(\\s*([^,]?\\w+[^,]?\\s*(,\\s*[^,]?\\w+[^,]?)*)*\\s*\\)|(?!new\\b)\\w+)\\s*(\\s*,\\s*(new\\s+\\1\\s*\\(\\s*([^,]?\\w+[^,]?\\s*(,\\s*[^,]?\\w+[^,]?)*)*\\s*\\)|(?!new\\b)\\w+)\\s*)*}))?)*|\\w+\\s*(,\\s*\\w+|=\\s*(new\\s+\\1\\s*\\(\\s*([^,]?\\w+[^,]?\\s*(,\\s*[^,]?\\w+[^,]?)*)*\\s*\\)|(?!new\\b)\\w+)\\s*|\\[\\s*\\]\\s*(=(\\s*(new\\s+\\1\\s*\\[\\s*[1-9]\\d*\\s*\\])|\\s*{\\s*(new\\s+\\1\\s*\\(\\s*([^,]?\\w+[^,]?\\s*(,\\s*[^,]?\\w+[^,]?)*)*\\s*\\)|(?!new\\b)\\w+)\\s*(\\s*,\\s*(new\\s+\\1\\s*\\(\\s*([^,]?\\w+[^,]?\\s*(,\\s*[^,]?\\w+[^,]?)*)*\\s*\\)|(?!new\\b)\\w+)\\s*)*}))?)?(,\\s*\\w+|,\\s*\\w+\\s*=\\s*(new\\s+\\1\\s*\\(\\s*([^,]?\\w+[^,]?\\s*(,\\s*[^,]?\\w+[^,]?)*)*\\s*\\)|(?!new\\b)\\w+)\\s*|\\s*\\[\\s*\\]\\s*(=(\\s*(new\\s+\\1\\s*\\[\\s*[1-9]\\d*\\s*\\])|\\s*{\\s*(new\\s+\\1\\s*\\(\\s*([^,]?\\w+[^,]?\\s*(,\\s*[^,]?\\w+[^,]?)*)*\\s*\\)|(?!new\\b)\\w+)\\s*(\\s*,\\s*(new\\s+\\1\\s*\\(\\s*([^,]?\\w+[^,]?\\s*(,\\s*[^,]?\\w+[^,]?)*)*\\s*\\)|(?!new\\b)\\w+)\\s*)*}))?)*)\\s*;'\n",
    "\n",
    "wordpattern = re.compile(r\"\\w+\")\n",
    "patternsplitter = re.compile(r'(\\w+)\\s*(\\[\\s*\\])?\\s*(=\\s*(new\\s*\\w+\\s*(\\(\\s*\\)|\\[\\s*\\d+\\s*\\])|{[^}]+}|\\\"([^\"]|\\\\.)*\\\"|(\\w|\\')*))?\\s*(\\,|\\;)')\n",
    "intpattern = re.compile(r'(int|long|short)\\s*(\\[\\s*\\]\\s*\\w+\\s*(,\\s*\\w+|=(\\s*{\\s*\\d+(\\s*,\\s*\\d+\\s*)*}|\\s*(new\\s+\\1\\s*\\[\\s*\\d+\\s*\\])))?\\s*(,\\s*\\w+\\s*(\\[\\s*\\])?\\s*(=(\\s*{\\s*\\d+(\\s*,\\s*\\d+\\s*)*}|\\s*(new\\s+\\1\\s*\\[\\s*\\d+\\s*\\])))?)*|\\s+\\w+\\s*(,\\s*\\w+|=\\s*\\d+|\\[\\s*\\]\\s*(=(\\s*(new\\s+\\1\\s*\\[\\s*\\d+\\s*\\])|\\s*{\\s*\\d+(\\s*,\\s*\\d+\\s*)*}))?)?(,\\s*\\w+|,\\s*\\w+\\s*=\\s*\\d+|\\s*\\[\\s*\\]\\s*(=(\\s*(new\\s+\\1\\s*\\[\\s*\\d+\\s*\\])|(\\s*{\\s*\\d+(\\s*,\\s*\\d+\\s*)*})))?)*)\\s*;') #tipo int estandar, que puede hacer arreglos si se desea\n",
    "doublepattern = re.compile(r'(double|float)\\s+(\\[\\s*\\]\\s*\\w+\\s*(,\\s*\\w+|=(\\s*(new\\s+\\1\\s*\\[\\s*[1-9]\\d*\\s*\\])|\\s*{\\s*[+-]?([0-9]*[.]?)[0-9]+(\\s*,\\s*[+-]?([0-9]*[.]?)[0-9]+\\s*)*}))?\\s*(,\\s*\\w+\\s*(\\[\\s*\\])?\\s*(=(\\s*(new\\s+\\1\\s*\\[\\s*[1-9]\\d*\\s*\\])|\\s*{\\s*[+-]?([0-9]*[.]?)[0-9]+(\\s*,\\s*[+-]?([0-9]*[.]?)[0-9]+\\s*)*}))?)*|\\w+\\s*(,\\s*\\w+|=(\\s*(new\\s+\\1\\s*\\[\\s*[1-9]\\d*\\s*\\])|\\s*[+-]?([0-9]*[.]?)[0-9]+|\\[\\s*\\]\\s*(=\\s*{\\s*[+-]?([0-9]*[.]?)[0-9]+(\\s*,\\s*[+-]?([0-9]*[.]?)[0-9]+\\s*)*})?))?(,\\s*\\w+|,\\s*\\w+\\s*=\\s*[+-]?([0-9]*[.]?)[0-9]+|\\s*\\[\\s*\\]\\s*(=(\\s*(new\\s+\\1\\s*\\[\\s*[1-9]\\d*\\s*\\])|\\s*{\\s*[+-]?([0-9]*[.]?)[0-9]+(\\s*,\\s*[+-]?([0-9]*[.]?)[0-9]+\\s*)*}))?)*)\\s*;')\n",
    "stringpattern = re.compile(r'(String)\\s+(\\[\\s*\\]\\s*\\w+\\s*(,\\s*\\w+|=(\\s*(new\\s+\\1\\s*\\[\\s*[1-9]\\d*\\s*\\])|\\s*{\\s*\\\"[^\"]*\\\"\\s*(\\s*,\\s*\\\"[^\"]*\\\"\\s*)*}))?\\s*(,\\s*\\w+\\s*(\\[\\s*\\])?\\s*(=(\\s*(new\\s+\\1\\s*\\[\\s*[1-9]\\d*\\s*\\])|\\s*{\\s*\\\"[^\"]*\\\"\\s*(\\s*,\\s*\\\"[^\"]*\\\"\\s*)*}))?)*|\\w+\\s*(,\\s*\\w+|=(\\s*(new\\s+\\1\\s*\\[\\s*[1-9]\\d*\\s*\\])|\\s*\\\"[^\"]*\\\"\\s*|\\[\\s*\\]\\s*(=\\s*{\\s*\\\"[^\"]*\\\"\\s*(\\s*,\\s*\\\"[^\"]*\\\"\\s*)*})?))?(,\\s*\\w+|,\\s*\\w+\\s*=\\s*\\\"[^\"]*\\\"\\s*|\\s*\\[\\s*\\]\\s*(=(\\s*(new\\s+\\1\\s*\\[\\s*[1-9]\\d*\\s*\\])|\\s*{\\s*\\\"[^\"]*\\\"\\s*(\\s*,\\s*\\\"[^\"]*\\\"\\s*)*}))?)*)\\s*;')\n",
    "charpattern = re.compile(r\"(char)\\s+(\\[\\s*\\]\\s*\\w+\\s*(,\\s*\\w+|=(\\s*(new\\s+\\1\\s*\\[\\s*[1-9]\\d*\\s*\\])|\\s*{\\s*\\'[^']\\'\\s*(\\s*,\\s*\\'[^']\\'\\s*)*}))?\\s*(,\\s*\\w+\\s*(\\[\\s*\\])?\\s*(=(\\s*(new\\s+\\1\\s*\\[\\s*[1-9]\\d*\\s*\\])|\\s*{\\s*\\'[^']\\'\\s*(\\s*,\\s*\\'[^']\\'\\s*)*}))?)*|\\w+\\s*(,\\s*\\w+|=\\s*\\'[^']\\'\\s*|\\[\\s*\\]\\s*(=(\\s*(new\\s+\\1\\s*\\[\\s*[1-9]\\d*\\s*\\])|\\s*{\\s*\\'[^']\\'\\s*(\\s*,\\s*\\'[^']\\'\\s*)*}))?)?(,\\s*\\w+|,\\s*\\w+\\s*=\\s*\\'[^']\\'\\s*|\\s*\\[\\s*\\]\\s*(=(\\s*(new\\s+\\1\\s*\\[\\s*[1-9]\\d*\\s*\\])|\\s*{\\s*\\'[^']\\'\\s*(\\s*,\\s*\\'[^']\\'\\s*)*}))?)*)\\s*;\")\n",
    "booleanpattern = re.compile(r'(boolean)\\s+(\\[\\s*\\]\\s*\\w+\\s*(,\\s*\\w+|=(\\s*(new\\s+\\1\\s*\\[\\s*[1-9]\\d*\\s*\\])|\\s*{\\s*(true|false)\\s*(\\s*,\\s*(true|false)\\s*)*}))?\\s*(,\\s*\\w+\\s*(\\[\\s*\\])?\\s*(=(\\s*(new\\s+\\1\\s*\\[\\s*[1-9]\\d*\\s*\\])|\\s*{\\s*(true|false)\\s*(\\s*,\\s*(true|false)\\s*)*}))?)*|\\w+\\s*(,\\s*\\w+|=\\s*(true|false)\\s*|\\[\\s*\\]\\s*(=(\\s*(new\\s+\\1\\s*\\[\\s*[1-9]\\d*\\s*\\])|\\s*{\\s*(true|false)\\s*(\\s*,\\s*(true|false)\\s*)*}))?)?(,\\s*\\w+|,\\s*\\w+\\s*=\\s*(true|false)\\s*|\\s*\\[\\s*\\]\\s*(=(\\s*(new\\s+\\1\\s*\\[\\s*[1-9]\\d*\\s*\\])|\\s*{\\s*(true|false)\\s*(\\s*,\\s*(true|false)\\s*)*}))?)*)\\s*;')\n",
    "bytepattern = re.compile(r'(byte)\\s+(\\[\\s*\\]\\s*\\w+\\s*(,\\s*\\w+|=(\\s*(new\\s+\\1\\s*\\[\\s*[1-9]\\d*\\s*\\])|\\s*{\\s*(0b[01]{1,8}|0x[0-9a-fA-F]{1,2}|\\d{1,3})\\s*(\\s*,\\s*(0b[01]{1,8}|0x[0-9a-fA-F]{1,2}|\\d{1,3})\\s*)*}))?\\s*(,\\s*\\w+\\s*(\\[\\s*\\])?\\s*(=(\\s*(new\\s+\\1\\s*\\[\\s*[1-9]\\d*\\s*\\])|\\s*{\\s*(0b[01]{1,8}|0x[0-9a-fA-F]{1,2}|\\d{1,3})\\s*(\\s*,\\s*(0b[01]{1,8}|0x[0-9a-fA-F]{1,2}|\\d{1,3})\\s*)*}))?)*|\\w+\\s*(,\\s*\\w+|=\\s*(0b[01]{1,8}|0x[0-9a-fA-F]{1,2}|\\d{1,3})\\s*|\\[\\s*\\]\\s*(=(\\s*(new\\s+\\1\\s*\\[\\s*[1-9]\\d*\\s*\\])|\\s*{\\s*(0b[01]{1,8}|0x[0-9a-fA-F]{1,2}|\\d{1,3})\\s*(\\s*,\\s*(0b[01]{1,8}|0x[0-9a-fA-F]{1,2}|\\d{1,3})\\s*)*}))?)?(,\\s*\\w+|,\\s*\\w+\\s*=\\s*(0b[01]{1,8}|0x[0-9a-fA-F]{1,2}|\\d{1,3})\\s*|\\s*\\[\\s*\\]\\s*(=(\\s*(new\\s+\\1\\s*\\[\\s*[1-9]\\d*\\s*\\])|\\s*{\\s*(0b[01]{1,8}|0x[0-9a-fA-F]{1,2}|\\d{1,3})\\s*(\\s*,\\s*(0b[01]{1,8}|0x[0-9a-fA-F]{1,2}|\\d{1,3})\\s*)*}))?)*)\\s*;')\n",
    "objectpattern = re.compile(r'(Object)\\s+(\\[\\s*\\]\\s*\\w+\\s*(,\\s*\\w+|=(\\s*(new\\s+\\1\\s*\\[\\s*[1-9]\\d*\\s*\\])|\\s*{\\s*(new\\s+\\1\\s*\\(\\s*([^,]?\\w+[^,]?\\s*(,\\s*[^,]?\\w+[^,]?)*)*\\s*\\)|(?!new\\b)\\w+)\\s*(\\s*,\\s*(new\\s+\\1\\s*\\(\\s*([^,]?\\w+[^,]?\\s*(,\\s*[^,]?\\w+[^,]?)*)*\\s*\\)|(?!new\\b)\\w+)\\s*)*}))?\\s*(,\\s*\\w+\\s*(\\[\\s*\\])?\\s*(=(\\s*(new\\s+\\1\\s*\\[\\s*[1-9]\\d*\\s*\\])|\\s*{\\s*(new\\s+\\1\\s*\\(\\s*([^,]?\\w+[^,]?\\s*(,\\s*[^,]?\\w+[^,]?)*)*\\s*\\)|(?!new\\b)\\w+)\\s*(\\s*,\\s*(new\\s+\\1\\s*\\(\\s*([^,]?\\w+[^,]?\\s*(,\\s*[^,]?\\w+[^,]?)*)*\\s*\\)|(?!new\\b)\\w+)\\s*)*}))?)*|\\w+\\s*(,\\s*\\w+|=\\s*(new\\s+\\1\\s*\\(\\s*([^,]?\\w+[^,]?\\s*(,\\s*[^,]?\\w+[^,]?)*)*\\s*\\)|(?!new\\b)\\w+)\\s*|\\[\\s*\\]\\s*(=(\\s*(new\\s+\\1\\s*\\[\\s*[1-9]\\d*\\s*\\])|\\s*{\\s*(new\\s+\\1\\s*\\(\\s*([^,]?\\w+[^,]?\\s*(,\\s*[^,]?\\w+[^,]?)*)*\\s*\\)|(?!new\\b)\\w+)\\s*(\\s*,\\s*(new\\s+\\1\\s*\\(\\s*([^,]?\\w+[^,]?\\s*(,\\s*[^,]?\\w+[^,]?)*)*\\s*\\)|(?!new\\b)\\w+)\\s*)*}))?)?(,\\s*\\w+|,\\s*\\w+\\s*=\\s*(new\\s+\\1\\s*\\(\\s*([^,]?\\w+[^,]?\\s*(,\\s*[^,]?\\w+[^,]?)*)*\\s*\\)|(?!new\\b)\\w+)\\s*|\\s*\\[\\s*\\]\\s*(=(\\s*(new\\s+\\1\\s*\\[\\s*[1-9]\\d*\\s*\\])|\\s*{\\s*(new\\s+\\1\\s*\\(\\s*([^,]?\\w+[^,]?\\s*(,\\s*[^,]?\\w+[^,]?)*)*\\s*\\)|(?!new\\b)\\w+)\\s*(\\s*,\\s*(new\\s+\\1\\s*\\(\\s*([^,]?\\w+[^,]?\\s*(,\\s*[^,]?\\w+[^,]?)*)*\\s*\\)|(?!new\\b)\\w+)\\s*)*}))?)*)\\s*;')\n",
    "bigpattern = re.compile('(int|long|short|double|float|String|char|boolean|byte|Object)('+Pstring+'|'+Pchar+'|'+Pint+'|'+Pdouble+'|'+Pboolean+'|'+pbyte+'|'+pObject+')')\n",
    "\n",
    "patterns = [stringpattern,charpattern,intpattern,doublepattern,booleanpattern,bytepattern,objectpattern]\n",
    "for pattern in patterns:\n",
    "  for match in pattern.finditer(text):\n",
    "      print(match)\n",
    "\n",
    "      #int/float/string\n",
    "      print(match.group(1))\n",
    "\n",
    "      #Crea la llave si aún no está en el diccionario\n",
    "      #[escalares Declaradas no Inicializadas, escalares Inicializadas, arreglos Dec y no Inicializadas, arreglos Inicializados]\n",
    "      if (d.get(match.group(1)) is None):\n",
    "        d[match.group(1)]=[0,0,0,0]\n",
    "        variables[match.group(1)] = []\n",
    "      \n",
    "      #group(0) tiene la cadena completa\n",
    "      #El split(',') entrega cada una de las declaraciones \n",
    "      #si la expresion es int a, b, c, d[]\n",
    "      #regresa:\n",
    "      #int a\n",
    "      #b\n",
    "      #c\n",
    "      #d[]\n",
    "      cadena = match.group(0)[len(match.group(1)):]\n",
    "      flag = False\n",
    "      for c in cadena:\n",
    "        if(c == '['):\n",
    "          flag=True\n",
    "        elif( not c== ' '):\n",
    "          break\n",
    "\n",
    "\n",
    "      for wordmatch in patternsplitter.finditer(cadena):\n",
    "        \n",
    "        word = wordmatch.group(0)\n",
    "        print(word)\n",
    "        variablematch = wordpattern.search(word)\n",
    "        if variablematch: #push del nombre de la variable en la lista del tipo\n",
    "          variables[match.group(1)].append(variablematch.group(0))\n",
    "          print(\"match : \"+str(variablematch))\n",
    "\n",
    "        #Si encuentras '[' Es un arreglo\n",
    "        if(\"[\" in word or flag):\n",
    "          #Si ademas hay una asignación, está inicializado\n",
    "          if(\"=\" in word):\n",
    "            d[match.group(1)][3]+=1\n",
    "          else:\n",
    "            #Si no, solo está declarado\n",
    "            d[match.group(1)][2]+=1\n",
    "        else:\n",
    "          #Si no está, es un escalar\n",
    "          if(\"=\" in word):\n",
    "            #Si aparece = es una asignación\n",
    "            d[match.group(1)][1]+=1\n",
    "          else:\n",
    "            #Si no, está declarado pero no inicializado\n",
    "            d[match.group(1)][0]+=1\n",
    "        print(d)\n",
    "        text = text.replace(match.group(0),'',1)\n",
    "        print(text)\n",
    "\n",
    "print(d)\n",
    "print(variables)\n",
    "## (:O)"
   ]
  },
  {
   "cell_type": "code",
   "execution_count": null,
   "metadata": {
    "id": "5c8PUi_jjzxa"
   },
   "outputs": [],
   "source": [
    "\n",
    "def tabula(diccionario):\n",
    "    \n",
    "    dd = {}\n",
    "    num_keys = len(dic)\n",
    "    dd['Tipo de Dato']= ['']*num_keys\n",
    "    dd['Declaradas']=[0]*num_keys\n",
    "    dd['Inicializadas']=[0]*num_keys\n",
    "    dd['Array Declarados']=[0]*num_keys\n",
    "    dd['Array Inicializados']=[0]*num_keys\n",
    "    dd['Total/Tipo']=[0]*num_keys\n",
    "    cont = 0\n",
    "    \n",
    "    for typeData in dic:\n",
    "        #Este es el total por tipo\n",
    "        total = sum(diccionario[typeData])\n",
    "        dd['Tipo de Dato'][cont] = typeData\n",
    "        dd['Declaradas'][cont]=dic[typeData][0]\n",
    "        dd['Inicializadas'][cont]=dic[typeData][1]\n",
    "        dd['Array Declarados'][cont]=dic[typeData][2]\n",
    "        dd['Array Inicializados'][cont]=dic[typeData][3]\n",
    "        dd['Total/Tipo'][cont] = total\n",
    "        cont+=1 \n",
    "        \n",
    "    return dd\n",
    "\n",
    "    #Para mostrar el Dataframe solo hace falta\n",
    "    #pd.DataFrame(tabula(dic))"
   ]
  },
  {
   "cell_type": "code",
   "execution_count": null,
   "metadata": {
    "colab": {
     "base_uri": "https://localhost:8080/",
     "height": 110
    },
    "id": "NrHhig2Gk7UZ",
    "outputId": "0360225c-4038-414f-d844-951caaeb1301"
   },
   "outputs": [],
   "source": [
    "\n",
    "import pandas as pd\n",
    "pd.DataFrame(tabula(d))"
   ]
  },
  {
   "cell_type": "code",
   "execution_count": null,
   "metadata": {},
   "outputs": [],
   "source": []
  }
 ],
 "metadata": {
  "colab": {
   "collapsed_sections": [],
   "include_colab_link": true,
   "name": "regex.ipynb",
   "provenance": []
  },
  "kernelspec": {
   "display_name": "Python 3",
   "language": "python",
   "name": "python3"
  },
  "language_info": {
   "codemirror_mode": {
    "name": "ipython",
    "version": 3
   },
   "file_extension": ".py",
   "mimetype": "text/x-python",
   "name": "python",
   "nbconvert_exporter": "python",
   "pygments_lexer": "ipython3",
   "version": "3.8.5"
  }
 },
 "nbformat": 4,
 "nbformat_minor": 1
}
